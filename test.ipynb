{
 "cells": [
  {
   "cell_type": "code",
   "execution_count": 1,
   "metadata": {},
   "outputs": [],
   "source": [
    "from joblib import load \n",
    "model = load('rf_model.joblib')"
   ]
  },
  {
   "cell_type": "code",
   "execution_count": null,
   "metadata": {},
   "outputs": [],
   "source": []
  },
  {
   "cell_type": "code",
   "execution_count": 2,
   "metadata": {},
   "outputs": [
    {
     "name": "stdout",
     "output_type": "stream",
     "text": [
      "RFM Metrics:\n",
      "   CustomerID  Recency  Frequency  Revenue\n",
      "0           1        0          9       82\n"
     ]
    }
   ],
   "source": [
    "import pandas as pd\n",
    "from datetime import datetime\n",
    "\n",
    "# Sample transactional data\n",
    "data = {\n",
    "    'InvoiceNo': [1, 2, 3, 4, 5, 6, 7, 8, 9],\n",
    "    'StockCode': ['A1', 'A2', 'B1', 'A1', 'B2', 'A2', 'B1', 'A2', 'B2'],\n",
    "    'Description': ['Product A', 'Product B', 'Product C', 'Product A', 'Product D', 'Product B', 'Product C', 'Product B', 'Product D'],\n",
    "    'Quantity': [10, 5, 8, 12, 6, 9, 15, 7, 10],\n",
    "    'InvoiceDate': ['2022-01-01', '2022-01-05', '2022-01-10', '2022-02-01', '2022-02-05', '2022-02-10', '2022-03-01', '2022-03-05', '2022-03-10'],\n",
    "    'UnitPrice': [5, 8, 10, 6, 12, 7, 8, 9, 11],\n",
    "    'CustomerID': [1, 1, 1, 1, 1, 1, 1, 1, 1],\n",
    "    'Country': ['USA', 'UK', 'USA', 'Canada', 'UK', 'USA', 'Canada', 'UK', 'Canada']\n",
    "}\n",
    "\n",
    "df = pd.DataFrame(data)\n",
    "\n",
    "# Convert 'InvoiceDate' to datetime\n",
    "df['InvoiceDate'] = pd.to_datetime(df['InvoiceDate'])\n",
    "\n",
    "# Calculate Recency, Frequency, and Monetary metrics\n",
    "current_date = max(df['InvoiceDate'])  # Assuming this is the current date\n",
    "\n",
    "# Recency: Calculate the number of days since the last purchase for each customer\n",
    "recency_df = df.groupby('CustomerID')['InvoiceDate'].max().reset_index()\n",
    "recency_df['Recency'] = (current_date - recency_df['InvoiceDate']).dt.days\n",
    "recency_df.drop('InvoiceDate', axis=1, inplace=True)\n",
    "\n",
    "# Frequency: Count the number of purchases for each customer\n",
    "frequency_df = df.groupby('CustomerID')['InvoiceNo'].count().reset_index()\n",
    "frequency_df.columns = ['CustomerID', 'Frequency']\n",
    "\n",
    "# Monetary: Calculate the total monetary value of purchases for each customer\n",
    "monetary_df = df.groupby('CustomerID')['Quantity'].sum().reset_index()\n",
    "monetary_df.columns = ['CustomerID', 'Revenue']\n",
    "\n",
    "# Merge the RFM metrics into a single DataFrame\n",
    "rfm_df = recency_df.merge(frequency_df, on='CustomerID').merge(monetary_df, on='CustomerID')\n",
    "\n",
    "print(\"RFM Metrics:\")\n",
    "print(rfm_df)\n"
   ]
  },
  {
   "cell_type": "code",
   "execution_count": 3,
   "metadata": {},
   "outputs": [],
   "source": [
    "rfm_df = rfm_df.drop('CustomerID' , axis= 1)"
   ]
  },
  {
   "cell_type": "code",
   "execution_count": 4,
   "metadata": {},
   "outputs": [],
   "source": [
    "X = rfm_df"
   ]
  },
  {
   "cell_type": "code",
   "execution_count": 5,
   "metadata": {},
   "outputs": [],
   "source": [
    "pred = model.predict(X)"
   ]
  },
  {
   "cell_type": "code",
   "execution_count": 6,
   "metadata": {},
   "outputs": [
    {
     "name": "stdout",
     "output_type": "stream",
     "text": [
      "[0]\n"
     ]
    }
   ],
   "source": [
    "print(pred)"
   ]
  },
  {
   "cell_type": "code",
   "execution_count": null,
   "metadata": {},
   "outputs": [],
   "source": []
  }
 ],
 "metadata": {
  "kernelspec": {
   "display_name": "Python 3",
   "language": "python",
   "name": "python3"
  },
  "language_info": {
   "codemirror_mode": {
    "name": "ipython",
    "version": 3
   },
   "file_extension": ".py",
   "mimetype": "text/x-python",
   "name": "python",
   "nbconvert_exporter": "python",
   "pygments_lexer": "ipython3",
   "version": "3.10.7"
  }
 },
 "nbformat": 4,
 "nbformat_minor": 2
}
